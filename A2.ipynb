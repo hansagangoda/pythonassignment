{
 "cells": [
  {
   "cell_type": "code",
   "execution_count": 1,
   "id": "0f3c28e6-19df-49ff-8417-bd7d09ede26e",
   "metadata": {},
   "outputs": [
    {
     "data": {
      "text/plain": [
       "set"
      ]
     },
     "execution_count": 1,
     "metadata": {},
     "output_type": "execute_result"
    }
   ],
   "source": [
    "#crete  set empty...\n",
    "s=set()\n",
    "type(s)"
   ]
  },
  {
   "cell_type": "code",
   "execution_count": 6,
   "id": "665a16ce-805a-441c-9802-652d7ae33a62",
   "metadata": {},
   "outputs": [
    {
     "name": "stdout",
     "output_type": "stream",
     "text": [
      "([1, 2], [7, 'b', 'c'])\n",
      "<class 'tuple'>\n"
     ]
    }
   ],
   "source": [
    "#creat to tuple\n",
    "a=([1,2],['a','b','c'])\n",
    "a[1][0]=7\n",
    "print(a)\n",
    "print(type(a))"
   ]
  },
  {
   "cell_type": "code",
   "execution_count": 3,
   "id": "7e91a9e4-42a3-4e8c-851f-a8d9c80d59db",
   "metadata": {},
   "outputs": [
    {
     "data": {
      "text/plain": [
       "{0, 2, 4, 6, 8, 'Cow', 'cat', 'cow', 'dog'}"
      ]
     },
     "execution_count": 3,
     "metadata": {},
     "output_type": "execute_result"
    }
   ],
   "source": [
    "#create to set\n",
    "ss1={'cat','dog','cow',\"Cow\"}\n",
    "ss2={0,2,4,6,8}\n",
    "ss3={1,2,3,4,5}\n",
    "ss4={'cat2','dog1','Dog'}\n",
    "\n",
    "\n",
    "\n",
    "ss1|ss2\n",
    "# ss2&ss3\n",
    "# ss1-ss4\n",
    "# ss4-ss1\n",
    "# ss3^ss4\n",
    "# ss4^ss1\n"
   ]
  },
  {
   "cell_type": "code",
   "execution_count": 2,
   "id": "aa9a4555-e9a8-462c-a8b5-f41aa92a2fe6",
   "metadata": {},
   "outputs": [
    {
     "name": "stdout",
     "output_type": "stream",
     "text": [
      "<class 'set'>\n",
      "<class 'set'>\n"
     ]
    },
    {
     "data": {
      "text/plain": [
       "set()"
      ]
     },
     "execution_count": 2,
     "metadata": {},
     "output_type": "execute_result"
    }
   ],
   "source": [
    "#odd number to set 1 to 10\n",
    "a={1,3,}\n",
    "b={1,3,5,7,9}\n",
    "print(type(a))\n",
    "print(type(b))\n",
    "a-b"
   ]
  },
  {
   "cell_type": "code",
   "execution_count": null,
   "id": "efb27e5e-4fa6-457d-beaf-461196139696",
   "metadata": {},
   "outputs": [],
   "source": []
  },
  {
   "cell_type": "code",
   "execution_count": 55,
   "id": "4bd31b54-2227-497a-96f2-90f52c690e58",
   "metadata": {},
   "outputs": [
    {
     "data": {
      "text/plain": [
       "tuple"
      ]
     },
     "execution_count": 55,
     "metadata": {},
     "output_type": "execute_result"
    }
   ],
   "source": [
    "#create to not breaket tuple\n",
    "t2=10,20,30,40\n",
    "type(t2)"
   ]
  },
  {
   "cell_type": "code",
   "execution_count": 57,
   "id": "e35bb13e-cace-4642-8fd9-19b0664f0e66",
   "metadata": {},
   "outputs": [
    {
     "data": {
      "text/plain": [
       "tuple"
      ]
     },
     "execution_count": 57,
     "metadata": {},
     "output_type": "execute_result"
    }
   ],
   "source": [
    "#create tuple\n",
    "t1=('a',12,2.5,True)\n",
    "t1\n",
    "type(t2)"
   ]
  },
  {
   "cell_type": "code",
   "execution_count": 64,
   "id": "df5dd1a4-4674-47fc-8d9e-02a5dcfc7578",
   "metadata": {},
   "outputs": [
    {
     "data": {
      "text/plain": [
       "'e'"
      ]
     },
     "execution_count": 64,
     "metadata": {},
     "output_type": "execute_result"
    }
   ],
   "source": [
    "x=['a','bb','ccc'],'ee',['ff','bb','jj']\n",
    "len(x)\n",
    "x[1][1:3][0]"
   ]
  },
  {
   "cell_type": "code",
   "execution_count": 70,
   "id": "aa2c4761-821c-416e-9fa4-d43a307236b5",
   "metadata": {},
   "outputs": [
    {
     "data": {
      "text/plain": [
       "'ccc'"
      ]
     },
     "execution_count": 70,
     "metadata": {},
     "output_type": "execute_result"
    }
   ],
   "source": [
    "#tuple index\n",
    "x=['a',['bb',['ccc','ddd'],'ee','fff'],'g',['hh','ii'],'j']\n",
    "len(x)\n",
    "x[1][1:3][1] #oput 'ee'\n",
    "x[1][1:3][0][0] #out 'ccc'"
   ]
  },
  {
   "cell_type": "code",
   "execution_count": 78,
   "id": "1cf542f6-adab-482f-ac70-0abd0efc86a4",
   "metadata": {},
   "outputs": [
    {
     "data": {
      "text/plain": [
       "list"
      ]
     },
     "execution_count": 78,
     "metadata": {},
     "output_type": "execute_result"
    }
   ],
   "source": [
    "#list create\n",
    "l1=[10,20,30]\n",
    "type(l1)\n",
    "\n"
   ]
  },
  {
   "cell_type": "code",
   "execution_count": 79,
   "id": "308562e0-961c-41e9-b351-5587b7ee7d38",
   "metadata": {},
   "outputs": [
    {
     "data": {
      "text/plain": [
       "set"
      ]
     },
     "execution_count": 79,
     "metadata": {},
     "output_type": "execute_result"
    }
   ],
   "source": [
    "#set create\n",
    "s1={1,2,3,4,5,6}\n",
    "type(s1)\n"
   ]
  },
  {
   "cell_type": "code",
   "execution_count": 87,
   "id": "fbc18688-96f0-4292-81f4-1227cac549eb",
   "metadata": {},
   "outputs": [
    {
     "data": {
      "text/plain": [
       "str"
      ]
     },
     "execution_count": 87,
     "metadata": {},
     "output_type": "execute_result"
    }
   ],
   "source": [
    "#create to string \n",
    "a=\"hansa gangoda\"\n",
    "type(a)\n"
   ]
  },
  {
   "cell_type": "code",
   "execution_count": 93,
   "id": "b04890dc-840b-4260-8e37-47a352505b9d",
   "metadata": {},
   "outputs": [
    {
     "data": {
      "text/plain": [
       "set"
      ]
     },
     "execution_count": 93,
     "metadata": {},
     "output_type": "execute_result"
    }
   ],
   "source": [
    "#set create\n",
    "s1={1,2,3,4,5,6}\n",
    "type(s1)\n"
   ]
  },
  {
   "cell_type": "code",
   "execution_count": 107,
   "id": "cf1110fd-db4b-43b2-b142-f0e377be9e83",
   "metadata": {},
   "outputs": [
    {
     "data": {
      "text/plain": [
       "{'Cow', 'Dog', 'cat', 'cat2', 'cow', 'dog', 'dog1'}"
      ]
     },
     "execution_count": 107,
     "metadata": {},
     "output_type": "execute_result"
    }
   ],
   "source": []
  },
  {
   "cell_type": "code",
   "execution_count": 7,
   "id": "2ffb50a5-ddee-40ab-909d-e02913932ffb",
   "metadata": {},
   "outputs": [],
   "source": [
    "#uion using\n",
    "s1={'cat','dog','cow',\"Cow\"}\n",
    "ss2={0,2,4,6,8}\n",
    "ss3={1,2,3,4,5}\n",
    "ss4={'cat2','dog1','Dog'}\n",
    "ss1|ss2\n",
    "\n"
   ]
  },
  {
   "cell_type": "code",
   "execution_count": 8,
   "id": "707f8e38-72b6-4da1-912a-0f6f0337a744",
   "metadata": {},
   "outputs": [],
   "source": [
    "#intersecation\n",
    "ss1={'cat','dog','cow',\"Cow\"}\n",
    "ss2={0,2,4,6,8}\n",
    "ss3={1,2,3,4,5}\n",
    "ss4={'cat2','dog1','Dog'}\n",
    "ss2&ss3"
   ]
  },
  {
   "cell_type": "code",
   "execution_count": 110,
   "id": "66d8b32b-b59d-4c1c-8ff5-9d34698f9ab9",
   "metadata": {},
   "outputs": [
    {
     "data": {
      "text/plain": [
       "{'Cow', 'cat', 'cow', 'dog'}"
      ]
     },
     "execution_count": 110,
     "metadata": {},
     "output_type": "execute_result"
    }
   ],
   "source": [
    "#different using\n",
    "ss1={'cat','dog','cow',\"Cow\"}\n",
    "ss2={0,2,4,6,8}\n",
    "ss3={1,2,3,4,5}\n",
    "ss4={'cat2','dog1','Dog'}\n",
    "ss1-ss4\n"
   ]
  },
  {
   "cell_type": "code",
   "execution_count": 111,
   "id": "40fe1b7f-eeae-469e-aa45-96e135ac3195",
   "metadata": {},
   "outputs": [
    {
     "data": {
      "text/plain": [
       "{'Dog', 'cat2', 'dog1'}"
      ]
     },
     "execution_count": 111,
     "metadata": {},
     "output_type": "execute_result"
    }
   ],
   "source": [
    "#diffrent using\n",
    "s1={'cat','dog','cow',\"Cow\"}\n",
    "ss2={0,2,4,6,8}\n",
    "ss3={1,2,3,4,5}\n",
    "ss4={'cat2','dog1','Dog'}\n",
    "ss4-ss1"
   ]
  },
  {
   "cell_type": "code",
   "execution_count": 112,
   "id": "376cce5e-2a09-4c87-a1da-c59878d07727",
   "metadata": {},
   "outputs": [
    {
     "data": {
      "text/plain": [
       "{1, 2, 3, 4, 5, 'Dog', 'cat2', 'dog1'}"
      ]
     },
     "execution_count": 112,
     "metadata": {},
     "output_type": "execute_result"
    }
   ],
   "source": [
    "#sumetaric\n",
    "ss1={'cat','dog','cow',\"Cow\"}\n",
    "ss2={0,2,4,6,8}\n",
    "ss3={1,2,3,4,5}\n",
    "ss4={'cat2','dog1','Dog'}\n",
    "ss3^ss4\n"
   ]
  },
  {
   "cell_type": "code",
   "execution_count": 113,
   "id": "55db9b44-22b4-4807-8287-c4a9912d5171",
   "metadata": {},
   "outputs": [
    {
     "data": {
      "text/plain": [
       "{'Cow', 'Dog', 'cat', 'cat2', 'cow', 'dog', 'dog1'}"
      ]
     },
     "execution_count": 113,
     "metadata": {},
     "output_type": "execute_result"
    }
   ],
   "source": [
    "#sumetaric\n",
    "ss1={'cat','dog','cow',\"Cow\"}\n",
    "ss2={0,2,4,6,8}\n",
    "ss3={1,2,3,4,5}\n",
    "ss4={'cat2','dog1','Dog'}\n",
    "ss4^ss1\n"
   ]
  },
  {
   "cell_type": "code",
   "execution_count": null,
   "id": "076f7dc3-7585-4fa6-bdbb-73166827433a",
   "metadata": {},
   "outputs": [],
   "source": []
  }
 ],
 "metadata": {
  "kernelspec": {
   "display_name": "Python 3 (ipykernel)",
   "language": "python",
   "name": "python3"
  },
  "language_info": {
   "codemirror_mode": {
    "name": "ipython",
    "version": 3
   },
   "file_extension": ".py",
   "mimetype": "text/x-python",
   "name": "python",
   "nbconvert_exporter": "python",
   "pygments_lexer": "ipython3",
   "version": "3.11.4"
  }
 },
 "nbformat": 4,
 "nbformat_minor": 5
}
