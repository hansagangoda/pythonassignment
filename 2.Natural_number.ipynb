{
 "cells": [
  {
   "cell_type": "code",
   "execution_count": 1,
   "id": "f4cbd14b-35a2-45bb-8191-fa2cbc197875",
   "metadata": {},
   "outputs": [
    {
     "name": "stdin",
     "output_type": "stream",
     "text": [
      "Enter value: 10\n"
     ]
    },
    {
     "name": "stdout",
     "output_type": "stream",
     "text": [
      "55.0\n"
     ]
    }
   ],
   "source": [
    "#2.sum of the first natural number\n",
    "natural=input(\"Enter value:\")\n",
    "n=int(natural)\n",
    "sum=n*(n+1)/2\n",
    "print(sum)"
   ]
  },
  {
   "cell_type": "code",
   "execution_count": 2,
   "id": "4540fa9f-ac17-4759-9287-03b02c13d9b4",
   "metadata": {},
   "outputs": [
    {
     "name": "stdout",
     "output_type": "stream",
     "text": [
      "the total sun of 10 natural_number is: 55\n"
     ]
    }
   ],
   "source": [
    "#2.sum of the first natural number\n",
    "natural_number=10\n",
    "sum=0\n",
    "for i in range(natural_number,-1,-1):\n",
    "  sum=sum+i\n",
    "print(\"the total sun of\",natural_number,\"natural_number is:\",sum)"
   ]
  },
  {
   "cell_type": "code",
   "execution_count": 43,
   "id": "c9206bb6-e965-45a6-8200-dfe0ba226c1b",
   "metadata": {},
   "outputs": [
    {
     "name": "stdout",
     "output_type": "stream",
     "text": [
      "1\n",
      "2\n",
      "3\n",
      "4\n",
      "5\n",
      "6\n",
      "7\n",
      "8\n",
      "9\n",
      "10\n"
     ]
    }
   ],
   "source": []
  },
  {
   "cell_type": "code",
   "execution_count": null,
   "id": "9f90bebb-71d6-4397-bc1d-35c5672122db",
   "metadata": {},
   "outputs": [],
   "source": [
    "\n",
    "\n"
   ]
  },
  {
   "cell_type": "code",
   "execution_count": null,
   "id": "d898761a-164c-4911-9bbc-7d7ce8b7b6f4",
   "metadata": {},
   "outputs": [],
   "source": []
  }
 ],
 "metadata": {
  "kernelspec": {
   "display_name": "Python 3 (ipykernel)",
   "language": "python",
   "name": "python3"
  },
  "language_info": {
   "codemirror_mode": {
    "name": "ipython",
    "version": 3
   },
   "file_extension": ".py",
   "mimetype": "text/x-python",
   "name": "python",
   "nbconvert_exporter": "python",
   "pygments_lexer": "ipython3",
   "version": "3.11.4"
  }
 },
 "nbformat": 4,
 "nbformat_minor": 5
}
