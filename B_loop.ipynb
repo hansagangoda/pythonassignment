{
 "cells": [
  {
   "cell_type": "code",
   "execution_count": 10,
   "id": "fb220cc1-230a-4d20-9111-03c1becbf80b",
   "metadata": {},
   "outputs": [
    {
     "name": "stdout",
     "output_type": "stream",
     "text": [
      "hansa\n",
      "tanu\n",
      "bugu\n"
     ]
    }
   ],
   "source": [
    "#for loop used to \n",
    "abc = [\"hansa\", \"tanu\", \"bugu\"]\n",
    "for h in abc:\n",
    "  print(h)"
   ]
  },
  {
   "cell_type": "code",
   "execution_count": 11,
   "id": "d2bd924a-8df8-4d73-bd9d-78eac3293305",
   "metadata": {},
   "outputs": [
    {
     "name": "stdout",
     "output_type": "stream",
     "text": [
      "hansa\n",
      "tanu\n"
     ]
    }
   ],
   "source": [
    "#userd to break to for loop  used to last break  \n",
    "xyz = [\"hansa\", \"tanu\", \"hardik\"]\n",
    "for a in xyz:\n",
    "  print(a)\n",
    "  if a == \"tanu\":\n",
    "    break\n",
    "\n"
   ]
  },
  {
   "cell_type": "code",
   "execution_count": 17,
   "id": "673ecd53-7fda-4867-a8d4-d0b83545a173",
   "metadata": {},
   "outputs": [
    {
     "name": "stdout",
     "output_type": "stream",
     "text": [
      "hansa\n"
     ]
    }
   ],
   "source": [
    "#the for loop used to printf function fisrt break\n",
    "xyz = [\"hansa\", \"tanu\", \"hardik\"]\n",
    "for a in xyz:\n",
    "  if a == \"tanu\":   \n",
    "      break\n",
    "  print(a)\n",
    "     \n",
    "  \n"
   ]
  },
  {
   "cell_type": "code",
   "execution_count": 19,
   "id": "59e499b6-990f-4147-9cdc-0e589dae3912",
   "metadata": {},
   "outputs": [
    {
     "name": "stdout",
     "output_type": "stream",
     "text": [
      "tanu\n",
      "sagar\n"
     ]
    }
   ],
   "source": [
    "#continue used \n",
    "a= [\"tanu\", \"hardik\", \"sagar\"]\n",
    "for b in a:\n",
    "  if b== \"hardik\":\n",
    "    continue\n",
    "  print(b)"
   ]
  },
  {
   "cell_type": "code",
   "execution_count": 21,
   "id": "1be15dd9-c9af-4f81-ad27-8af17f46e427",
   "metadata": {},
   "outputs": [
    {
     "name": "stdout",
     "output_type": "stream",
     "text": [
      "0\n",
      "1\n",
      "2\n",
      "3\n",
      "4\n",
      "5\n"
     ]
    }
   ],
   "source": [
    "#used to range function\n",
    "for a in range(6):\n",
    "  print(a)"
   ]
  },
  {
   "cell_type": "code",
   "execution_count": 22,
   "id": "9432a1e7-56fd-482b-b1a9-b28851e0aceb",
   "metadata": {},
   "outputs": [
    {
     "name": "stdout",
     "output_type": "stream",
     "text": [
      "2\n",
      "5\n",
      "8\n",
      "11\n",
      "14\n",
      "17\n",
      "20\n",
      "23\n",
      "26\n",
      "29\n"
     ]
    }
   ],
   "source": [
    "#Increment the sequence with 3 (default is 1): range function\n",
    "for a in range(2, 30, 3):\n",
    "    print(a)"
   ]
  },
  {
   "cell_type": "code",
   "execution_count": 2,
   "id": "9558e239-9f9f-4c4e-9748-2334fe2971c8",
   "metadata": {},
   "outputs": [
    {
     "name": "stdout",
     "output_type": "stream",
     "text": [
      "b\n"
     ]
    }
   ],
   "source": [
    "x=['a','b','c']\n",
    "for i in 'b':\n",
    "    print(i)\n",
    "    break"
   ]
  },
  {
   "cell_type": "code",
   "execution_count": null,
   "id": "713fb7fa-5ba8-4d9c-8517-551e5f6f0825",
   "metadata": {},
   "outputs": [],
   "source": []
  },
  {
   "cell_type": "code",
   "execution_count": null,
   "id": "98521bf1-5208-4984-bf90-7c538e2596a8",
   "metadata": {},
   "outputs": [],
   "source": []
  }
 ],
 "metadata": {
  "kernelspec": {
   "display_name": "Python 3 (ipykernel)",
   "language": "python",
   "name": "python3"
  },
  "language_info": {
   "codemirror_mode": {
    "name": "ipython",
    "version": 3
   },
   "file_extension": ".py",
   "mimetype": "text/x-python",
   "name": "python",
   "nbconvert_exporter": "python",
   "pygments_lexer": "ipython3",
   "version": "3.11.4"
  }
 },
 "nbformat": 4,
 "nbformat_minor": 5
}
