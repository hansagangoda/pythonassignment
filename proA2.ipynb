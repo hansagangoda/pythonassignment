{
 "cells": [
  {
   "cell_type": "code",
   "execution_count": 3,
   "id": "aa8ee152-5083-41db-aad9-355c4c240965",
   "metadata": {},
   "outputs": [
    {
     "name": "stdout",
     "output_type": "stream",
     "text": [
      "[10, 20, 30, 40, ['a', 'b', 'c']]\n"
     ]
    },
    {
     "data": {
      "text/plain": [
       "list"
      ]
     },
     "execution_count": 3,
     "metadata": {},
     "output_type": "execute_result"
    }
   ],
   "source": [
    "#list create \n",
    "l=[10,20,30,40,['a','b','c']]\n",
    "print(l)\n",
    "type(l)\n"
   ]
  },
  {
   "cell_type": "code",
   "execution_count": 6,
   "id": "7e95e076-7648-404d-971c-288740b32558",
   "metadata": {},
   "outputs": [
    {
     "name": "stdout",
     "output_type": "stream",
     "text": [
      "['a', 'b', 'c']\n"
     ]
    },
    {
     "ename": "IndexError",
     "evalue": "list index out of range",
     "output_type": "error",
     "traceback": [
      "\u001b[1;31m---------------------------------------------------------------------------\u001b[0m",
      "\u001b[1;31mIndexError\u001b[0m                                Traceback (most recent call last)",
      "Cell \u001b[1;32mIn[6], line 3\u001b[0m\n\u001b[0;32m      1\u001b[0m l\u001b[38;5;241m=\u001b[39m[\u001b[38;5;241m10\u001b[39m,\u001b[38;5;241m20\u001b[39m,\u001b[38;5;241m30\u001b[39m,\u001b[38;5;241m40\u001b[39m,[\u001b[38;5;124m'\u001b[39m\u001b[38;5;124ma\u001b[39m\u001b[38;5;124m'\u001b[39m,\u001b[38;5;124m'\u001b[39m\u001b[38;5;124mb\u001b[39m\u001b[38;5;124m'\u001b[39m,\u001b[38;5;124m'\u001b[39m\u001b[38;5;124mc\u001b[39m\u001b[38;5;124m'\u001b[39m]]\n\u001b[0;32m      2\u001b[0m \u001b[38;5;28mprint\u001b[39m(l[\u001b[38;5;241m4\u001b[39m])\n\u001b[1;32m----> 3\u001b[0m \u001b[38;5;28mprint\u001b[39m(\u001b[43ml\u001b[49m\u001b[43m[\u001b[49m\u001b[38;5;241;43m5\u001b[39;49m\u001b[43m]\u001b[49m)\n\u001b[0;32m      4\u001b[0m \u001b[38;5;28mprint\u001b[39m(l[\u001b[38;5;241m6\u001b[39m])\n",
      "\u001b[1;31mIndexError\u001b[0m: list index out of range"
     ]
    }
   ],
   "source": [
    "l=[10,20,30,40,['a','b','c']]\n",
    "print(l[4])\n",
    "print(l[5])\n",
    "print(l[6])\n"
   ]
  },
  {
   "cell_type": "code",
   "execution_count": 8,
   "id": "4b4ab751-4389-4eae-a33a-f7388fdec2dc",
   "metadata": {},
   "outputs": [
    {
     "name": "stdout",
     "output_type": "stream",
     "text": [
      "[['a', 'b', 'c'], 40, 30, 20, 10]\n"
     ]
    }
   ],
   "source": [
    "#defferent string aand list\n",
    "l=[10,20,30,40,['a','b','c']]\n",
    "print(l[::-1])"
   ]
  },
  {
   "cell_type": "code",
   "execution_count": 10,
   "id": "631981a4-ae17-46eb-8fef-0aa1d5ac1c3d",
   "metadata": {},
   "outputs": [
    {
     "name": "stdout",
     "output_type": "stream",
     "text": [
      "[10, 20, 30, 40, ['a', 'b', 'c'], 'at the end']\n"
     ]
    }
   ],
   "source": [
    "#used to append method\n",
    "l=[10,20,30,40,['a','b','c']]\n",
    "l.append(\"at the end\")\n",
    "print(l)   "
   ]
  },
  {
   "cell_type": "code",
   "execution_count": 23,
   "id": "9821fa71-be12-4b62-8583-7d2f100017bd",
   "metadata": {},
   "outputs": [
    {
     "name": "stdout",
     "output_type": "stream",
     "text": [
      "[12, 13, 14, 'a', 'x', 10]\n"
     ]
    },
    {
     "data": {
      "text/plain": [
       "[]"
      ]
     },
     "execution_count": 23,
     "metadata": {},
     "output_type": "execute_result"
    }
   ],
   "source": [
    "#concatation + oprator\n",
    "l=[12,13,14]\n",
    "l1=['a','x',10]\n",
    "print(l+l1)\n",
    "\n"
   ]
  },
  {
   "cell_type": "code",
   "execution_count": 24,
   "id": "0510beba-f204-44ef-b1f7-d8505baa809c",
   "metadata": {},
   "outputs": [
    {
     "data": {
      "text/plain": [
       "[['a[', 'b', 'c'], 50, 40]"
      ]
     },
     "execution_count": 24,
     "metadata": {},
     "output_type": "execute_result"
    }
   ],
   "source": [
    "#example of list to index\n",
    "l3=[10,20,30,40,50,['a[','b','c']]\n",
    "l3[:2:-1]"
   ]
  },
  {
   "cell_type": "code",
   "execution_count": 1,
   "id": "85bb6bfa-62db-460b-b40b-f19ffa6e4011",
   "metadata": {},
   "outputs": [
    {
     "name": "stdout",
     "output_type": "stream",
     "text": [
      "['cherry', 'banana', 'apple']\n"
     ]
    }
   ],
   "source": [
    "#using to reverse list\n",
    "l=[\"apple\",\"banana\",\"cherry\"]\n",
    "l.reverse()\n",
    "print(l)"
   ]
  },
  {
   "cell_type": "code",
   "execution_count": 3,
   "id": "13e91637-6a72-444a-be3e-f71411fd4ca8",
   "metadata": {},
   "outputs": [
    {
     "name": "stdout",
     "output_type": "stream",
     "text": [
      "[30, 40]\n",
      "[40]\n"
     ]
    }
   ],
   "source": [
    "#create list to strat 2 end 4\n",
    "l1=[10,20,30,40]\n",
    "print(l1[2:4:])\n",
    "print(l1[:2:-1])"
   ]
  },
  {
   "cell_type": "code",
   "execution_count": null,
   "id": "fc39d210-9611-4e37-9fcf-bfec2c515bbd",
   "metadata": {},
   "outputs": [],
   "source": []
  }
 ],
 "metadata": {
  "kernelspec": {
   "display_name": "Python 3 (ipykernel)",
   "language": "python",
   "name": "python3"
  },
  "language_info": {
   "codemirror_mode": {
    "name": "ipython",
    "version": 3
   },
   "file_extension": ".py",
   "mimetype": "text/x-python",
   "name": "python",
   "nbconvert_exporter": "python",
   "pygments_lexer": "ipython3",
   "version": "3.11.4"
  }
 },
 "nbformat": 4,
 "nbformat_minor": 5
}
