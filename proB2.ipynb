{
 "cells": [
  {
   "cell_type": "code",
   "execution_count": 3,
   "id": "56e5d890-d5f4-4809-a92c-dd145a3986e4",
   "metadata": {},
   "outputs": [
    {
     "name": "stdin",
     "output_type": "stream",
     "text": [
      "please enter string value:: hansa\n"
     ]
    },
    {
     "name": "stdout",
     "output_type": "stream",
     "text": [
      "hansa\n"
     ]
    }
   ],
   "source": [
    "#program 1 varible define and print value(input define function )\n",
    "namevar=input(\"please enter string value::\");\n",
    "print(namevar)"
   ]
  },
  {
   "cell_type": "code",
   "execution_count": 4,
   "id": "f137c8be-2053-4b3a-b9c1-dac1978e6ea5",
   "metadata": {},
   "outputs": [
    {
     "name": "stdin",
     "output_type": "stream",
     "text": [
      "please enter value::: 12\n"
     ]
    },
    {
     "name": "stdout",
     "output_type": "stream",
     "text": [
      "78.0\n"
     ]
    }
   ],
   "source": [
    "# program 2. natural number print\n",
    "nstr=input(\"please enter value:::\")\n",
    "n=int(nstr)\n",
    "sum=n*(n+1)/2\n",
    "print(sum)"
   ]
  },
  {
   "cell_type": "code",
   "execution_count": 11,
   "id": "c0587044-006e-4439-8f78-0616c747368f",
   "metadata": {},
   "outputs": [
    {
     "name": "stdin",
     "output_type": "stream",
     "text": [
      "please enter a number1: 20\n",
      "\n",
      "please enter a number2 30\n"
     ]
    },
    {
     "name": "stdout",
     "output_type": "stream",
     "text": [
      "your ansewer: 50.0\n"
     ]
    }
   ],
   "source": [
    "#program 3. adding two numbers using  arithmetic oprator\n",
    "num1=input(\"please enter a number1:\");\n",
    "num2=input(\"\\nplease enter a number2\");\n",
    "add=float(num1)+float(num2)\n",
    "print(\"your ansewer:\",add)"
   ]
  },
  {
   "cell_type": "code",
   "execution_count": 12,
   "id": "af503d17-01f5-47c6-aba8-6dddc0653b6d",
   "metadata": {},
   "outputs": [
    {
     "name": "stdin",
     "output_type": "stream",
     "text": [
      "first number: 10\n",
      "\n",
      "second number: 20\n"
     ]
    },
    {
     "name": "stdout",
     "output_type": "stream",
     "text": [
      "the sum of  two number 30\n"
     ]
    }
   ],
   "source": [
    "#program 3. adding two numbers arithmetic opratos\n",
    "number1=input(\"first number:\")\n",
    "number2=input(\"\\nsecond number:\")\n",
    "sum=int(number1)+int(number2)\n",
    "print(\"the sum of  two number\",sum)"
   ]
  },
  {
   "cell_type": "code",
   "execution_count": 13,
   "id": "fb551ea0-2223-4b1a-a947-db65b45abafb",
   "metadata": {},
   "outputs": [
    {
     "name": "stdin",
     "output_type": "stream",
     "text": [
      "enter first number: 12\n",
      "enter second number 15\n"
     ]
    },
    {
     "name": "stdout",
     "output_type": "stream",
     "text": [
      "12\n",
      "15\n"
     ]
    }
   ],
   "source": [
    "#program 4 maximun two numbers print if else statament\n",
    "def maximum(a,b):\n",
    "    if a>=b:\n",
    "        return a\n",
    "    else:\n",
    "        return b\n",
    "a=input(\"enter first number:\")\n",
    "b=input(\"enter second number\")\n",
    "print(a)\n",
    "print(b)"
   ]
  },
  {
   "cell_type": "code",
   "execution_count": 15,
   "id": "1a88a0f6-a2b6-4a04-97c3-1753ca57b576",
   "metadata": {},
   "outputs": [
    {
     "name": "stdout",
     "output_type": "stream",
     "text": [
      "hansa gangoda\n"
     ]
    }
   ],
   "source": [
    "#varible difene user \n",
    "namevar=\"hansa gangoda\";\n",
    "print(namevar)"
   ]
  },
  {
   "cell_type": "code",
   "execution_count": 39,
   "id": "5287a102-5e79-4964-b1fa-5f92dd133bec",
   "metadata": {},
   "outputs": [
    {
     "name": "stdin",
     "output_type": "stream",
     "text": [
      " 3\n"
     ]
    },
    {
     "name": "stdout",
     "output_type": "stream",
     "text": [
      "3 is a prime number\n"
     ]
    }
   ],
   "source": [
    "#prime number is print program 5.\n",
    "num1=input()\n",
    "num=int(num1)\n",
    "if num>1:\n",
    "    for i in range(2,int(num/2)+1):  #syntax to prime number\n",
    "        if(num%i)==0:\n",
    "            print(num,\"is not a prime number\")\n",
    "            break\n",
    "    else:\n",
    "        print(num,\"is a prime number\")\n",
    "else:\n",
    "      print(num,\"is not prime\")\n",
    "    "
   ]
  },
  {
   "cell_type": "code",
   "execution_count": 1,
   "id": "718a137d-8cd6-4b9e-a584-1a97fda32a5b",
   "metadata": {},
   "outputs": [
    {
     "ename": "TypeError",
     "evalue": "'method' object is not iterable",
     "output_type": "error",
     "traceback": [
      "\u001b[1;31m---------------------------------------------------------------------------\u001b[0m",
      "\u001b[1;31mTypeError\u001b[0m                                 Traceback (most recent call last)",
      "Cell \u001b[1;32mIn[1], line 1\u001b[0m\n\u001b[1;32m----> 1\u001b[0m \u001b[38;5;28;43;01mfor\u001b[39;49;00m\u001b[43m \u001b[49m\u001b[43mi\u001b[49m\u001b[43m \u001b[49m\u001b[38;5;129;43;01min\u001b[39;49;00m\u001b[43m \u001b[49m\u001b[38;5;28;43minput\u001b[39;49m\u001b[43m:\u001b[49m\n\u001b[0;32m      3\u001b[0m \u001b[43m   \u001b[49m\u001b[43mi\u001b[49m\u001b[38;5;241;43m=\u001b[39;49m\u001b[38;5;28;43minput\u001b[39;49m\u001b[43m(\u001b[49m\u001b[38;5;124;43m\"\u001b[39;49m\u001b[38;5;124;43menter the string\u001b[39;49m\u001b[38;5;124;43m\"\u001b[39;49m\u001b[43m)\u001b[49m\n\u001b[0;32m      4\u001b[0m \u001b[43m   \u001b[49m\u001b[38;5;28;43mprint\u001b[39;49m\u001b[43m(\u001b[49m\u001b[38;5;124;43m\"\u001b[39;49m\u001b[38;5;124;43mleagth of string\u001b[39;49m\u001b[38;5;124;43m\"\u001b[39;49m\u001b[43m,\u001b[49m\u001b[43mi\u001b[49m\u001b[43m)\u001b[49m\n",
      "\u001b[1;31mTypeError\u001b[0m: 'method' object is not iterable"
     ]
    }
   ],
   "source": [
    "    \n",
    "    \n",
    "     for i in :\n",
    "        \n",
    "        i=input(\"enter the string\")\n",
    "        print(\"leagth of string\",i)"
   ]
  },
  {
   "cell_type": "code",
   "execution_count": 40,
   "id": "93f0bef4-b0c4-46c9-9a96-e24eff14a94c",
   "metadata": {},
   "outputs": [
    {
     "name": "stdout",
     "output_type": "stream",
     "text": [
      "hansagangoda\n"
     ]
    }
   ],
   "source": [
    "#string concatenating program 7. 8.\n",
    "a1=\"hansa\"\n",
    "a2=\"gangoda\"\n",
    "a3=a1+a2\n",
    "print(a3)\n"
   ]
  },
  {
   "cell_type": "code",
   "execution_count": null,
   "id": "0b40814a-4eba-41fd-97f8-200e38422140",
   "metadata": {},
   "outputs": [],
   "source": []
  }
 ],
 "metadata": {
  "kernelspec": {
   "display_name": "Python 3 (ipykernel)",
   "language": "python",
   "name": "python3"
  },
  "language_info": {
   "codemirror_mode": {
    "name": "ipython",
    "version": 3
   },
   "file_extension": ".py",
   "mimetype": "text/x-python",
   "name": "python",
   "nbconvert_exporter": "python",
   "pygments_lexer": "ipython3",
   "version": "3.11.4"
  }
 },
 "nbformat": 4,
 "nbformat_minor": 5
}
