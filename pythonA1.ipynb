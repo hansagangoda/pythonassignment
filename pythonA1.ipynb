{
 "cells": [
  {
   "cell_type": "code",
   "execution_count": 28,
   "id": "822e8f6a-bcf9-43c4-945f-69d955799f2a",
   "metadata": {},
   "outputs": [
    {
     "data": {
      "text/plain": [
       "'htipaydiv tarajuG'"
      ]
     },
     "execution_count": 28,
     "metadata": {},
     "output_type": "execute_result"
    }
   ],
   "source": [
    "#selasing\n",
    "un='Gujarat vidyapith'\n",
    "un[0]  #output 'G'\n",
    "un[0:3] #output 'GUJ'\n",
    "un[3:] #output 'arat vidyapith'\n",
    "un[-1]  #output 'h'\n",
    "un[-1:] #output 'h'\n",
    "un[-12:] #output 'at vidyapith'\n",
    "un[12:-2] #output  'api'\n",
    "un[2:-12] #output 'api'\n",
    "un[2:5] #'jar'\n",
    "un[1:5] #'ujar'\n",
    "un[0::2] #'Gjrtvdaih'\n",
    "un[::2] #'Gjrtvdaih'\n",
    "un[::-1] #'htipaydiv tarajuG'\n"
   ]
  },
  {
   "cell_type": "code",
   "execution_count": 16,
   "id": "d6ffdbc8-7b50-40a7-a929-a076485519fe",
   "metadata": {},
   "outputs": [
    {
     "name": "stdout",
     "output_type": "stream",
     "text": [
      "A\n"
     ]
    }
   ],
   "source": [
    "#boolan\n",
    "\n",
    "print('A' or 'B')"
   ]
  },
  {
   "cell_type": "code",
   "execution_count": 17,
   "id": "d6240236-ec5f-4c13-80b3-a547f546ae9d",
   "metadata": {},
   "outputs": [
    {
     "name": "stdout",
     "output_type": "stream",
     "text": [
      "B\n"
     ]
    }
   ],
   "source": [
    "print('B' or 'A')"
   ]
  },
  {
   "cell_type": "code",
   "execution_count": 18,
   "id": "bd6b4d3d-3e7f-421f-b5e8-99b6f2cb9df7",
   "metadata": {},
   "outputs": [
    {
     "name": "stdout",
     "output_type": "stream",
     "text": [
      "k\n"
     ]
    }
   ],
   "source": [
    "print('k'or 1)"
   ]
  },
  {
   "cell_type": "code",
   "execution_count": 19,
   "id": "ee8bfb42-2788-49cc-aa6e-229ddb30c7c6",
   "metadata": {},
   "outputs": [
    {
     "name": "stdout",
     "output_type": "stream",
     "text": [
      "1\n"
     ]
    }
   ],
   "source": [
    "print(1 or 'k')"
   ]
  },
  {
   "cell_type": "code",
   "execution_count": 20,
   "id": "3b16ae56-ebe0-4eab-aa03-444300ea14b5",
   "metadata": {},
   "outputs": [
    {
     "name": "stdout",
     "output_type": "stream",
     "text": [
      "guj\n"
     ]
    }
   ],
   "source": [
    "print('guj' or True)"
   ]
  },
  {
   "cell_type": "code",
   "execution_count": 22,
   "id": "f07b05fb-3d83-4a93-8250-acfd2a9e965d",
   "metadata": {},
   "outputs": [
    {
     "name": "stdout",
     "output_type": "stream",
     "text": [
      "True\n"
     ]
    }
   ],
   "source": [
    "print(True or 'Guj')"
   ]
  },
  {
   "cell_type": "code",
   "execution_count": 23,
   "id": "71d4c2ad-0df9-4b11-a7c5-56d5b85815eb",
   "metadata": {},
   "outputs": [
    {
     "data": {
      "text/plain": [
       "'456789'"
      ]
     },
     "execution_count": 23,
     "metadata": {},
     "output_type": "execute_result"
    }
   ],
   "source": [
    "a=\"0123456789x\"\n",
    "a[-7:-1]"
   ]
  },
  {
   "cell_type": "code",
   "execution_count": 29,
   "id": "6995b703-eaac-4c99-b18f-6db74f879526",
   "metadata": {},
   "outputs": [
    {
     "data": {
      "text/plain": [
       "'ay Hom'"
      ]
     },
     "execution_count": 29,
     "metadata": {},
     "output_type": "execute_result"
    }
   ],
   "source": [
    "#indexsing \n",
    "s=\"stay Home stay safe-\"\n",
    "s[2:-12]"
   ]
  },
  {
   "cell_type": "code",
   "execution_count": 31,
   "id": "5d5c54f3-bd61-4a28-8ab4-52ecf28a2d55",
   "metadata": {},
   "outputs": [
    {
     "data": {
      "text/plain": [
       "'a'"
      ]
     },
     "execution_count": 31,
     "metadata": {},
     "output_type": "execute_result"
    }
   ],
   "source": [
    "#varible array\n",
    "name=\"ahmendabad\"\n",
    "name[0]\n",
    "# name[1]\n",
    "# name[2]"
   ]
  },
  {
   "cell_type": "code",
   "execution_count": 32,
   "id": "1ff66fde-1f2c-4663-ae80-c4f553f85994",
   "metadata": {},
   "outputs": [
    {
     "data": {
      "text/plain": [
       "'daiha'"
      ]
     },
     "execution_count": 32,
     "metadata": {},
     "output_type": "execute_result"
    }
   ],
   "source": [
    "#varible string index\n",
    "name=\"vidyapith ahmedabad\"\n",
    "name[2:11:2]"
   ]
  },
  {
   "cell_type": "code",
   "execution_count": 33,
   "id": "f4598ec4-2294-43d6-b745-00903dfdee5d",
   "metadata": {},
   "outputs": [
    {
     "data": {
      "text/plain": [
       "'g1'"
      ]
     },
     "execution_count": 33,
     "metadata": {},
     "output_type": "execute_result"
    }
   ],
   "source": [
    "#operator to +\n",
    "'g' + '1'\n",
    "\n"
   ]
  },
  {
   "cell_type": "code",
   "execution_count": 35,
   "id": "fb7babc3-e07d-40ac-8a67-59ae1da44837",
   "metadata": {},
   "outputs": [
    {
     "name": "stdout",
     "output_type": "stream",
     "text": [
      "ahmedabad-gvp\n"
     ]
    }
   ],
   "source": [
    "#opretar + using overload \n",
    "2+2.5\n",
    "n1=\"ahmedabad\"+'-gvp'\n",
    "print(n1)"
   ]
  },
  {
   "cell_type": "raw",
   "id": "900b9e6f-b130-4238-a24f-106eef32de87",
   "metadata": {},
   "source": []
  },
  {
   "cell_type": "code",
   "execution_count": 42,
   "id": "460038f3-25ec-45ea-8b46-53aaa279c1fa",
   "metadata": {},
   "outputs": [
    {
     "name": "stdout",
     "output_type": "stream",
     "text": [
      "A\n",
      "B\n",
      "k\n",
      "1\n",
      "guj\n",
      "True\n",
      "Guj\n"
     ]
    }
   ],
   "source": [
    "#boolan \n",
    "print('A' or 'B')\n",
    "print('B' or 'A')\n",
    "print('k'or 1)\n",
    "print(1 or 'k')\n",
    "print('guj' or True)\n",
    "print(True or 'Guj')\n",
    "print('Guj' or True)"
   ]
  },
  {
   "cell_type": "code",
   "execution_count": 49,
   "id": "91c5a2c4-ff56-479c-bd41-e37bf5972031",
   "metadata": {},
   "outputs": [
    {
     "name": "stdout",
     "output_type": "stream",
     "text": [
      "['stay', 'Home', 'stay', 'safe-']\n",
      "<class 'list'>\n",
      "4\n"
     ]
    }
   ],
   "source": [
    "#split string  formatting \n",
    "s=\"stay Home stay safe-\"\n",
    "k=s.split()\n",
    "print(k)\n",
    "print(type(k))\n",
    "print(len(k))"
   ]
  },
  {
   "cell_type": "code",
   "execution_count": 61,
   "id": "1d0f6e2f-6a18-4bb7-9fff-23a94c7e7c73",
   "metadata": {},
   "outputs": [
    {
     "name": "stdout",
     "output_type": "stream",
     "text": [
      "10 and 23.4\n",
      "23.4 and 10\n"
     ]
    }
   ],
   "source": [
    "\n",
    "#replease to tring formatting\n",
    "a=10\n",
    "b=23.4\n",
    "print(\"{} and {}\".format(a,b))\n",
    "print(\"{1} and {0}\".format(a,b))"
   ]
  },
  {
   "cell_type": "code",
   "execution_count": 66,
   "id": "796d4db8-ff34-41bb-840f-50b9463df075",
   "metadata": {},
   "outputs": [
    {
     "name": "stdout",
     "output_type": "stream",
     "text": [
      "222      2\n",
      "9ab   2\n"
     ]
    }
   ],
   "source": [
    "#string padding \n",
    "print(\"{:8} {}\".format(\"222\",2))\n",
    "print(\"{:5} {}\".format(\"9ab\",2))"
   ]
  },
  {
   "cell_type": "code",
   "execution_count": 70,
   "id": "bfb89f44-fbe3-4e26-802e-983237da800f",
   "metadata": {},
   "outputs": [
    {
     "name": "stdout",
     "output_type": "stream",
     "text": [
      "31416\n",
      "31416.00\n"
     ]
    }
   ],
   "source": [
    "#string is integer to decimal display\n",
    "pi=31416\n",
    "print(pi)\n",
    "print(\"{:4.2f}\".format(pi))"
   ]
  },
  {
   "cell_type": "code",
   "execution_count": 87,
   "id": "0fd478c9-a614-4eb9-b02f-765f10e91417",
   "metadata": {},
   "outputs": [
    {
     "name": "stdout",
     "output_type": "stream",
     "text": [
      "HANSA\n",
      "hardik\n",
      "Tanu\n"
     ]
    }
   ],
   "source": [
    "#string formatting\n",
    "a=\"hansa\"\n",
    "print(a.upper())\n",
    "b=\"hardik\"\n",
    "print(b.lower())\n",
    "c=\"tanu\"\n",
    "print(c.capitalize())\n",
    "\n",
    "\n"
   ]
  },
  {
   "cell_type": "code",
   "execution_count": 62,
   "id": "144d024f-7357-4448-ac83-a67c3b8ed45d",
   "metadata": {},
   "outputs": [
    {
     "name": "stdout",
     "output_type": "stream",
     "text": [
      "20 and 10\n"
     ]
    }
   ],
   "source": [
    "#replese to value of string formating\n",
    "i=10\n",
    "j=20\n",
    "print(\"{1} and {0}\".format(i,j))"
   ]
  },
  {
   "cell_type": "code",
   "execution_count": 86,
   "id": "0ef2b8fc-c0d5-44df-8f68-237e255438f6",
   "metadata": {},
   "outputs": [
    {
     "name": "stdout",
     "output_type": "stream",
     "text": [
      "HANSA\n",
      "hansa\n",
      "Hansa\n"
     ]
    }
   ],
   "source": [
    "a=\"hansa\"\n",
    "print(a.upper())\n",
    "print(a.lower())\n",
    "print(a.capitalize())\n",
    "\n"
   ]
  },
  {
   "cell_type": "code",
   "execution_count": null,
   "id": "6bea593a-df27-419c-ae62-b1cf305edad0",
   "metadata": {},
   "outputs": [],
   "source": [
    "s.replase\n"
   ]
  }
 ],
 "metadata": {
  "kernelspec": {
   "display_name": "Python 3 (ipykernel)",
   "language": "python",
   "name": "python3"
  },
  "language_info": {
   "codemirror_mode": {
    "name": "ipython",
    "version": 3
   },
   "file_extension": ".py",
   "mimetype": "text/x-python",
   "name": "python",
   "nbconvert_exporter": "python",
   "pygments_lexer": "ipython3",
   "version": "3.11.4"
  }
 },
 "nbformat": 4,
 "nbformat_minor": 5
}
