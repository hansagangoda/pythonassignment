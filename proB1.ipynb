{
 "cells": [
  {
   "cell_type": "code",
   "execution_count": 5,
   "id": "0750fe10-f4ef-405f-b66f-a1073e64d1f7",
   "metadata": {},
   "outputs": [
    {
     "name": "stdout",
     "output_type": "stream",
     "text": [
      "31\n",
      "12\n",
      "20.1\n",
      "hello\n",
      "True\n",
      "False\n",
      "False\n"
     ]
    }
   ],
   "source": [
    "#program 1. using print function to int , float, string ,bool value define\n",
    "print(19+12)\n",
    "print(12)\n",
    "print(20.10)\n",
    "print(\"hello\")\n",
    "print(10 > 9)\n",
    "print(10 == 9)\n",
    "print(10 < 9) "
   ]
  },
  {
   "cell_type": "code",
   "execution_count": 1,
   "id": "571431b1-6082-43ac-91c5-df0b0474793d",
   "metadata": {},
   "outputs": [
    {
     "name": "stdout",
     "output_type": "stream",
     "text": [
      "the total sun of 12 natural_number is: 78\n"
     ]
    }
   ],
   "source": [
    "#natural number print\n",
    "natural_number=12\n",
    "sum=0\n",
    "for i in range(natural_number,-1,-1):\n",
    "  sum=sum+i\n",
    "print(\"the total sun of\",natural_number,\"natural_number is:\",sum)    "
   ]
  },
  {
   "cell_type": "code",
   "execution_count": 1,
   "id": "59299c97-3a12-4625-bfae-580e8b2d6582",
   "metadata": {},
   "outputs": [
    {
     "name": "stdout",
     "output_type": "stream",
     "text": [
      "['cherry', 'banana', 'apple']\n"
     ]
    }
   ],
   "source": [
    "f1=['apple','banana','cherry']\n",
    "f1.reverse()\n",
    "print(f1)"
   ]
  },
  {
   "cell_type": "code",
   "execution_count": 2,
   "id": "64546f93-f9bb-4969-97c7-7706d11be8ca",
   "metadata": {},
   "outputs": [
    {
     "name": "stdout",
     "output_type": "stream",
     "text": [
      "[30, 40]\n"
     ]
    }
   ],
   "source": [
    "l1=[10,20,30,40,50]\n",
    "print(l1[2:4:])"
   ]
  },
  {
   "cell_type": "code",
   "execution_count": 3,
   "id": "1021d874-bbc5-4cf7-ab8c-7528896f5c75",
   "metadata": {},
   "outputs": [
    {
     "name": "stdout",
     "output_type": "stream",
     "text": [
      "[50, 40]\n"
     ]
    }
   ],
   "source": [
    "l3=[10,20,30,40,50]\n",
    "print(l3[:2:-1])"
   ]
  },
  {
   "cell_type": "code",
   "execution_count": null,
   "id": "0a52a6b4-a294-4b9d-ba38-a6537ddb8f7d",
   "metadata": {},
   "outputs": [],
   "source": []
  }
 ],
 "metadata": {
  "kernelspec": {
   "display_name": "Python 3 (ipykernel)",
   "language": "python",
   "name": "python3"
  },
  "language_info": {
   "codemirror_mode": {
    "name": "ipython",
    "version": 3
   },
   "file_extension": ".py",
   "mimetype": "text/x-python",
   "name": "python",
   "nbconvert_exporter": "python",
   "pygments_lexer": "ipython3",
   "version": "3.11.4"
  }
 },
 "nbformat": 4,
 "nbformat_minor": 5
}
