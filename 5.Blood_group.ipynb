{
 "cells": [
  {
   "cell_type": "code",
   "execution_count": null,
   "id": "ac038bdf-0a91-45bd-89a4-193f13d4e445",
   "metadata": {},
   "outputs": [],
   "source": []
  },
  {
   "cell_type": "code",
   "execution_count": 5,
   "id": "fd6da408-8b98-4d70-be53-2951d9dcecfb",
   "metadata": {},
   "outputs": [
    {
     "name": "stdin",
     "output_type": "stream",
     "text": [
      "Enter first bool group 1: A+\n",
      "Enter second bool group 2: A-\n"
     ]
    },
    {
     "name": "stdout",
     "output_type": "stream",
     "text": [
      "not matching  bool group\n"
     ]
    }
   ],
   "source": [
    "#5 .write a program to find out if the two blood group match\n",
    "bg1=input(\"Enter first bool group 1:\")\n",
    "bg2=input(\"Enter second bool group 2:\")\n",
    "if bg1=='A+' or bg1=='A-' or bg1=='B+' or bg1=='B-'or bg1=='AB+' or bg1=='AB-'or bg1=='o+'or bg1=='o-':\n",
    "   if bg1==bg2:\n",
    "       \n",
    "        print(\"matching bool group\")\n",
    "   else:\n",
    "       print(\"not matching  bool group\")\n",
    "else:\n",
    "\n",
    "       print(\"your enter bool group\")\n",
    "\n"
   ]
  },
  {
   "cell_type": "code",
   "execution_count": null,
   "id": "3af4beaf-1ee6-4538-915e-dd84fe50d9c5",
   "metadata": {},
   "outputs": [],
   "source": []
  }
 ],
 "metadata": {
  "kernelspec": {
   "display_name": "Python 3 (ipykernel)",
   "language": "python",
   "name": "python3"
  },
  "language_info": {
   "codemirror_mode": {
    "name": "ipython",
    "version": 3
   },
   "file_extension": ".py",
   "mimetype": "text/x-python",
   "name": "python",
   "nbconvert_exporter": "python",
   "pygments_lexer": "ipython3",
   "version": "3.11.4"
  }
 },
 "nbformat": 4,
 "nbformat_minor": 5
}
