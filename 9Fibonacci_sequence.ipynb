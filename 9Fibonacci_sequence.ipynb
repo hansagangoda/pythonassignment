{
 "cells": [
  {
   "cell_type": "code",
   "execution_count": 9,
   "id": "3c6b7d15-d290-4569-99cb-1be677a956f7",
   "metadata": {},
   "outputs": [
    {
     "name": "stdin",
     "output_type": "stream",
     "text": [
      "The fibonacci sequence of the number 10\n"
     ]
    },
    {
     "name": "stdout",
     "output_type": "stream",
     "text": [
      "The fibonacci sequence of the number\n",
      "0\n",
      "1\n",
      "1\n",
      "2\n",
      "3\n",
      "5\n",
      "8\n",
      "13\n",
      "21\n",
      "34\n"
     ]
    }
   ],
   "source": [
    "#9.print fibonacci sequence\n",
    "n=int(input(\"The fibonacci sequence of the number\"))\n",
    "a=0\n",
    "b=1\n",
    "count=0\n",
    "print(\"The fibonacci sequence of the number\")\n",
    "while(count<10):\n",
    "    print(a)\n",
    "    c=a+b\n",
    "    a=b\n",
    "    b=c\n",
    "    count=count+1"
   ]
  },
  {
   "cell_type": "code",
   "execution_count": 10,
   "id": "55ac6175-4165-40f9-aa7b-5ff272ca64c1",
   "metadata": {},
   "outputs": [
    {
     "name": "stdin",
     "output_type": "stream",
     "text": [
      "Enter the number 10\n"
     ]
    },
    {
     "name": "stdout",
     "output_type": "stream",
     "text": [
      "0 1 1 2 3 5 8 13 21 34 "
     ]
    }
   ],
   "source": [
    "#9print fibonacci sequence.\n",
    "n=int(input(\"Enter the number\"))\n",
    "a=0\n",
    "b=1\n",
    "s=0\n",
    "for x in range(n):\n",
    "    print(s,end=\" \")\n",
    "    s=a+b\n",
    "    b=a\n",
    "    a=s\n",
    "    "
   ]
  },
  {
   "cell_type": "code",
   "execution_count": null,
   "id": "a20b92e6-eb77-47aa-bf37-8f031babc4ce",
   "metadata": {},
   "outputs": [],
   "source": []
  },
  {
   "cell_type": "code",
   "execution_count": null,
   "id": "6408066f-6991-4b34-8134-e7c2856a8611",
   "metadata": {},
   "outputs": [],
   "source": []
  }
 ],
 "metadata": {
  "kernelspec": {
   "display_name": "Python 3 (ipykernel)",
   "language": "python",
   "name": "python3"
  },
  "language_info": {
   "codemirror_mode": {
    "name": "ipython",
    "version": 3
   },
   "file_extension": ".py",
   "mimetype": "text/x-python",
   "name": "python",
   "nbconvert_exporter": "python",
   "pygments_lexer": "ipython3",
   "version": "3.11.4"
  }
 },
 "nbformat": 4,
 "nbformat_minor": 5
}
